{
 "cells": [
  {
   "cell_type": "code",
   "execution_count": 1,
   "id": "fb2a977d",
   "metadata": {},
   "outputs": [],
   "source": [
    "import numpy as np\n",
    "import matplotlib.pyplot as plt"
   ]
  },
  {
   "cell_type": "code",
   "execution_count": 2,
   "id": "f98e61c3",
   "metadata": {},
   "outputs": [],
   "source": [
    "x = np.linspace(0,1,1000)"
   ]
  },
  {
   "cell_type": "code",
   "execution_count": 3,
   "id": "8fd6c470",
   "metadata": {},
   "outputs": [],
   "source": [
    "def gssn(x,x0,a,b):\n",
    "  return a*np.exp(-b*(x-x0)**2)"
   ]
  },
  {
   "cell_type": "code",
   "execution_count": 4,
   "id": "df641cad",
   "metadata": {},
   "outputs": [],
   "source": [
    "n = gssn(x,0.3,1,1e3)\n",
    "p = gssn(x,0.8,1,1e3)"
   ]
  },
  {
   "cell_type": "code",
   "execution_count": 5,
   "id": "fe10429c",
   "metadata": {},
   "outputs": [],
   "source": [
    "dx = x[2]-x[1]\n",
    "el = dx*(n-p)\n",
    "for i in range(1,len(el)):\n",
    "  el[i] += el[i-1]"
   ]
  },
  {
   "cell_type": "code",
   "execution_count": 6,
   "id": "f2b8afea",
   "metadata": {},
   "outputs": [
    {
     "data": {
      "text/plain": [
       "[<matplotlib.lines.Line2D at 0x7fc750888460>]"
      ]
     },
     "execution_count": 6,
     "metadata": {},
     "output_type": "execute_result"
    },
    {
     "data": {
      "image/png": "[encoded data removed]",
      "text/plain": [
       "<Figure size 432x288 with 1 Axes>"
      ]
     },
     "metadata": {
      "needs_background": "light"
     },
     "output_type": "display_data"
    }
   ],
   "source": [
    "plt.plot(x,0*x,'0.5')\n",
    "plt.fill_between(x,n,alpha=0.5)\n",
    "plt.fill_between(x,-p,alpha=0.5)\n",
    "plt.plot(x,5*el,'k')"
   ]
  }
 ],
 "metadata": {
  "kernelspec": {
   "display_name": "Python 3 (ipykernel)",
   "language": "python",
   "name": "python3"
  },
  "language_info": {
   "codemirror_mode": {
    "name": "ipython",
    "version": 3
   },
   "file_extension": ".py",
   "mimetype": "text/x-python",
   "name": "python",
   "nbconvert_exporter": "python",
   "pygments_lexer": "ipython3",
   "version": "3.9.7"
  }
 },
 "nbformat": 4,
 "nbformat_minor": 5
}
