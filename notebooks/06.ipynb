{
 "cells": [
  {
   "cell_type": "markdown",
   "metadata": {},
   "source": [
    "<h1>Pauli matrices</h1>\n",
    "\n",
    "<p style='text-align: justify;'>\n",
    "The three Pauli matrices are unitary, Hermitian matrices and together\n",
    "with the identity they form a basis for the vectorial space of complex\n",
    "matrices. The Hamiltonian of any two-level system can therefore be expressed in\n",
    "terms of Pauli matrices $\\sigma_1$ $\\sigma_2$ and $\\sigma_3$ and three complex\n",
    "coefficients $a_1$ $a_2$ and $a_3$.\n",
    "</p>\n",
    "\n",
    "\\begin{equation}\n",
    "H = a_1\\sigma_1+a_2\\sigma_2+a_3\\sigma_3\n",
    "\\end{equation}\n",
    "\n",
    "<p style='text-align: justify;'>\n",
    "In the following we also consider the unitary operator which diagonalizes the above\n",
    "Hamiltonian. This can be expressed in compact form as the following.\n",
    "</p>\n",
    "\n",
    "\\begin{equation}\n",
    "U = \\exp(i\\theta(\\cos\\phi\\sigma_2-\\sin\\phi\\sigma_1)\n",
    "\\end{equation}"
   ]
  },
  {
   "cell_type": "code",
   "execution_count": 1,
   "metadata": {},
   "outputs": [],
   "source": [
    "import numpy as np\n",
    "\n",
    "# Identity and the three Pauli matrices\n",
    "\n",
    "s0 = np.array([[+1,0],[0,+1]],dtype=complex)\n",
    "s1 = np.array([[0,+1],[+1,0]],dtype=complex)\n",
    "s2 = np.array([[0,-1],[+1,0]])*1j\n",
    "s3 = np.array([[+1,0],[0,-1]],dtype=complex)"
   ]
  },
  {
   "cell_type": "code",
   "execution_count": 2,
   "metadata": {},
   "outputs": [],
   "source": [
    "# Matrix multiplication\n",
    "def mul(a,b):\n",
    "    return np.einsum('ij,jk->ik',a,b)\n",
    "\n",
    "# Hamiltonian\n",
    "def h(theta,phi):\n",
    "    return np.cos(2*theta)*s3+np.sin(2*theta)*(np.cos(phi)*s1+np.sin(phi)*s2)\n",
    "\n",
    "# Density matrix\n",
    "def r(theta,phi):\n",
    "    return 0.5*(s0-h(theta,phi))\n",
    "\n",
    "# Unitary transform\n",
    "def u(theta,phi):\n",
    "    return np.cos(theta)*s0+1j*np.sin(theta)*(np.cos(phi)*s2-np.sin(phi)*s1)"
   ]
  },
  {
   "cell_type": "code",
   "execution_count": 3,
   "metadata": {},
   "outputs": [],
   "source": [
    "h_ = h(30,15)\n",
    "r_ = r(30,15)\n",
    "u_ = u(30,15)"
   ]
  },
  {
   "cell_type": "code",
   "execution_count": 4,
   "metadata": {},
   "outputs": [],
   "source": [
    "h_diag = mul(mul(u_,h_),u_.T.conjugate())\n",
    "r_diag = mul(mul(u_,r_),u_.T.conjugate())"
   ]
  },
  {
   "cell_type": "code",
   "execution_count": 5,
   "metadata": {},
   "outputs": [
    {
     "name": "stdout",
     "output_type": "stream",
     "text": [
      "True\n",
      "True\n"
     ]
    }
   ],
   "source": [
    "print(np.allclose(h_diag,s3,atol=1e-16))\n",
    "print(np.allclose(r_diag,0.5*(s0-s3),atol=1e-16))"
   ]
  },
  {
   "cell_type": "code",
   "execution_count": 6,
   "metadata": {},
   "outputs": [
    {
     "name": "stdout",
     "output_type": "stream",
     "text": [
      "[[ 1.+0.j  0.-0.j]\n",
      " [ 0.+0.j -1.+0.j]]\n",
      "[[-0.-0.j -0.-0.j]\n",
      " [-0.-0.j  1.+0.j]]\n"
     ]
    }
   ],
   "source": [
    "with np.printoptions(precision=10,suppress=True):\n",
    "    print(h_diag)\n",
    "    print(r_diag)"
   ]
  }
 ],
 "metadata": {
  "kernelspec": {
   "display_name": "Python 3",
   "language": "python",
   "name": "python3"
  },
  "language_info": {
   "codemirror_mode": {
    "name": "ipython",
    "version": 3
   },
   "file_extension": ".py",
   "mimetype": "text/x-python",
   "name": "python",
   "nbconvert_exporter": "python",
   "pygments_lexer": "ipython3",
   "version": "3.9.1"
  }
 },
 "nbformat": 4,
 "nbformat_minor": 2
}
