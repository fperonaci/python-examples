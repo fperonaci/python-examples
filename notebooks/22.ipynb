{
 "cells": [
  {
   "cell_type": "code",
   "execution_count": 4,
   "metadata": {},
   "outputs": [],
   "source": [
    "%run ../neuromott/draft/data/tools.py\n",
    "import matplotlib.pyplot as plt"
   ]
  },
  {
   "cell_type": "code",
   "execution_count": 17,
   "metadata": {},
   "outputs": [],
   "source": [
    "%matplotlib qt5"
   ]
  },
  {
   "cell_type": "code",
   "execution_count": 13,
   "metadata": {},
   "outputs": [],
   "source": [
    "xs = np.linspace(0,2,100)"
   ]
  },
  {
   "cell_type": "code",
   "execution_count": 58,
   "metadata": {},
   "outputs": [
    {
     "data": {
      "text/plain": [
       "<matplotlib.legend.Legend at 0x7f22ca0f1700>"
      ]
     },
     "execution_count": 58,
     "metadata": {},
     "output_type": "execute_result"
    }
   ],
   "source": [
    "plt.figure(1,clear=True)\n",
    "plt.plot(v_star(ns,0.1,0.01),ns)\n",
    "plt.plot(v_star(ns,0.05,0.01),ns)\n",
    "plt.plot(v_star(ns,0.01,0.01),ns)\n",
    "plt.plot(v_star(ns,0.0,0.01),ns,'k--')\n",
    "plt.yscale('log')\n",
    "plt.xlim(0,2)\n",
    "plt.xlim(0.45,0.6)\n",
    "plt.ylim(1,100)\n",
    "plt.axvline(0.60)\n",
    "plt.axvline(0.75)\n",
    "plt.axvline(0.90)\n",
    "plt.grid()\n",
    "plt.axhspan(n_th1,n_th2,color='0.2',alpha=0.1)\n",
    "plt.legend([0.1,0.05,0.01])"
   ]
  },
  {
   "cell_type": "code",
   "execution_count": 50,
   "metadata": {},
   "outputs": [],
   "source": [
    "vl = 0.563\n",
    "rl = 0.05\n",
    "rs = 0.01\n",
    "ts = np.linspace(0,20,400)"
   ]
  },
  {
   "cell_type": "code",
   "execution_count": 56,
   "metadata": {},
   "outputs": [],
   "source": [
    "m = MemristorC(t=ts,vl=vl,rs=rs,rl=rl,c=10,n0=1e4,v0=100)"
   ]
  },
  {
   "cell_type": "code",
   "execution_count": 57,
   "metadata": {},
   "outputs": [
    {
     "data": {
      "text/plain": [
       "[<matplotlib.lines.Line2D at 0x7f22ca0d0310>]"
      ]
     },
     "execution_count": 57,
     "metadata": {},
     "output_type": "execute_result"
    }
   ],
   "source": [
    "plt.figure(1,clear=True)\n",
    "plt.plot(m.t,m.n)"
   ]
  },
  {
   "cell_type": "code",
   "execution_count": null,
   "metadata": {},
   "outputs": [],
   "source": []
  }
 ],
 "metadata": {
  "kernelspec": {
   "display_name": "Python 3 (ipykernel)",
   "language": "python",
   "name": "python3"
  },
  "language_info": {
   "codemirror_mode": {
    "name": "ipython",
    "version": 3
   },
   "file_extension": ".py",
   "mimetype": "text/x-python",
   "name": "python",
   "nbconvert_exporter": "python",
   "pygments_lexer": "ipython3",
   "version": "3.10.0"
  }
 },
 "nbformat": 4,
 "nbformat_minor": 4
}
