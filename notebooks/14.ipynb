{
 "cells": [
  {
   "cell_type": "code",
   "execution_count": null,
   "id": "ac8f48e9",
   "metadata": {},
   "outputs": [],
   "source": [
    "import numpy as np\n",
    "import matplotlib.pyplot as plt\n",
    "import tplot as tp"
   ]
  },
  {
   "cell_type": "code",
   "execution_count": null,
   "id": "19c2f657",
   "metadata": {},
   "outputs": [],
   "source": [
    "fig = tp.Figure(w=3.4)\n",
    "\n",
    "ax1 = fig.add_axes(x0=0.37,y0=0.22,w=1.2,h=1)\n",
    "ax2 = fig.add_axes_h(ax=ax1,pady=0.3)\n",
    "ax3 = fig.add_axes_w(ax=ax2,padx=0.3)\n",
    "ax4 = fig.add_axes_w(ax=ax1,padx=0.3,h=0.88/3)\n",
    "ax5 = fig.add_axes_h(ax=ax4,pady=0.06)\n",
    "ax6 = fig.add_axes_h(ax=ax5,pady=0.06)\n",
    "\n",
    "f,axs = fig.create(pady=0.2)\n",
    "\n",
    "for ax in axs.reshape(-1):\n",
    "  ax.set_xticks([])\n",
    "  ax.set_yticks([])"
   ]
  },
  {
   "cell_type": "code",
   "execution_count": null,
   "id": "ec1abc78",
   "metadata": {},
   "outputs": [],
   "source": [
    "fig = tp.Figure(w=1.7)\n",
    "\n",
    "fig.add_axes(x0=0.3,y0=0.22,w=1.35,h=0.7)\n",
    "fig.add_axes_h(pady=0.05)\n",
    "fig.add_axes_h(pady=0.05)\n",
    "fig.add_axes_h(pady=0.05)\n",
    "\n",
    "f,axs = fig.create(pady=0.05)\n",
    "\n",
    "axs[0].fill_between(x:=np.linspace(0,10),np.sin(x),alpha=0.5,color='C4')\n",
    "axs[2].fill_between(x:=np.linspace(0,10),np.cos(x),alpha=0.5,color='C1')\n",
    "axs[3].fill_between(x:=np.linspace(0,10),np.tanh(x-5),alpha=0.5,color='C5')\n",
    "axs[1].fill_between(x:=np.linspace(0,10),np.cosh((x-5)),alpha=0.5,color='C6')\n",
    "axs[1].fill_between(x:=np.linspace(0,10),np.sinh((x-5)),alpha=0.5,color='C2')\n",
    "\n",
    "for ax in axs.reshape(-1):\n",
    "  ax.set_xticks([])\n",
    "  ax.set_yticks([])"
   ]
  },
  {
   "cell_type": "code",
   "execution_count": null,
   "id": "6ea6edc4",
   "metadata": {},
   "outputs": [],
   "source": [
    "fig = tp.Figure(w=1.7)\n",
    "\n",
    "fig.add_axes(x0=0.3,y0=0.22,w=1.35,h=0.4)\n",
    "fig.add_axes_h(pady=0.05)\n",
    "fig.add_axes_h(pady=0.22)\n",
    "fig.add_axes_h(pady=0.05)\n",
    "\n",
    "f,axs = fig.create(pady=0.05)\n",
    "\n",
    "for ax in axs.reshape(-1):\n",
    "  ax.set_xticks([])\n",
    "  ax.set_yticks([])"
   ]
  }
 ],
 "metadata": {
  "kernelspec": {
   "display_name": "Python 3 (ipykernel)",
   "language": "python",
   "name": "python3"
  },
  "language_info": {
   "codemirror_mode": {
    "name": "ipython",
    "version": 3
   },
   "file_extension": ".py",
   "mimetype": "text/x-python",
   "name": "python",
   "nbconvert_exporter": "python",
   "pygments_lexer": "ipython3",
   "version": "3.9.9"
  }
 },
 "nbformat": 4,
 "nbformat_minor": 5
}
