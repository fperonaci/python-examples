{
 "cells": [
  {
   "cell_type": "markdown",
   "metadata": {},
   "source": [
    "<h1>Runge-Kutta integrator</h1>"
   ]
  },
  {
   "cell_type": "code",
   "execution_count": 1,
   "metadata": {},
   "outputs": [],
   "source": [
    "import numpy as np\n",
    "import matplotlib.pyplot as plt\n",
    "from scipy.integrate import odeint"
   ]
  },
  {
   "cell_type": "code",
   "execution_count": 2,
   "metadata": {},
   "outputs": [],
   "source": [
    "plt.rc('figure',figsize=(6,2))"
   ]
  },
  {
   "cell_type": "markdown",
   "metadata": {},
   "source": [
    "<h2>Without args</h2>"
   ]
  },
  {
   "cell_type": "code",
   "execution_count": 3,
   "metadata": {},
   "outputs": [],
   "source": [
    "def runge_kutta_step(y,y_dot,t,dt):\n",
    "    a1 = y_dot(y,t)\n",
    "    a2 = y_dot(y+a1*0.5*dt,t+0.5*dt)\n",
    "    a3 = y_dot(y+a2*0.5*dt,t+0.5*dt)\n",
    "    a4 = y_dot(y+a3*dt,t+dt)\n",
    "    return y + dt/6.*(a1+a4) + dt/3.*(a2+a3)\n",
    "\n",
    "def runge_kutta(y0,y_dot,ts):\n",
    "    ys = np.empty((*ts.shape,*y0.shape),dtype=float)\n",
    "    ys[0] = y0\n",
    "    dt = ts[1]-ts[0]\n",
    "    for i in range(len(ts)-1):\n",
    "        ys[i+1] = runge_kutta_step(ys[i],y_dot,ts[i],dt)\n",
    "    return ys\n",
    "\n",
    "def dot(n,time):\n",
    "    v = vb/(1+rb*n)\n",
    "    n_dot = 1-n+(0.5*n*v)**2\n",
    "    return n_dot"
   ]
  },
  {
   "cell_type": "code",
   "execution_count": 4,
   "metadata": {},
   "outputs": [],
   "source": [
    "time = np.arange(0,50,0.1)"
   ]
  },
  {
   "cell_type": "code",
   "execution_count": 5,
   "metadata": {},
   "outputs": [
    {
     "data": {
      "text/plain": [
       "[<matplotlib.lines.Line2D at 0x7f4a969b5bb0>]"
      ]
     },
     "execution_count": 5,
     "metadata": {},
     "output_type": "execute_result"
    },
    {
     "data": {
      "image/png": "[encoded data removed]",
      "text/plain": [
       "<Figure size 432x144 with 1 Axes>"
      ]
     },
     "metadata": {
      "needs_background": "light"
     },
     "output_type": "display_data"
    },
    {
     "data": {
      "image/png": "[encoded data removed]",
      "text/plain": [
       "<Figure size 432x144 with 1 Axes>"
      ]
     },
     "metadata": {
      "needs_background": "light"
     },
     "output_type": "display_data"
    }
   ],
   "source": [
    "vb = 0.2\n",
    "rb = 0.1\n",
    "sol1 = odeint(func=dot,y0=1,t=time)\n",
    "sol2 = runge_kutta(y0=np.array([1]),y_dot=dot,ts=time)\n",
    "plt.figure()\n",
    "plt.plot(time,sol1)\n",
    "plt.plot(time,sol2.real)\n",
    "\n",
    "vb = 1\n",
    "rb = 0\n",
    "sol1 = odeint(func=dot,y0=1,t=time)\n",
    "sol2 = runge_kutta(y0=np.array([1]),y_dot=dot,ts=time)\n",
    "plt.figure()\n",
    "plt.plot(time,sol1)\n",
    "plt.plot(time,sol2.real)"
   ]
  },
  {
   "cell_type": "markdown",
   "metadata": {},
   "source": [
    "## With args"
   ]
  },
  {
   "cell_type": "code",
   "execution_count": 6,
   "metadata": {},
   "outputs": [],
   "source": [
    "def runge_kutta_step(y,y_dot,t,dt,args):\n",
    "    a1 = y_dot(y,t,*args)\n",
    "    a2 = y_dot(y+a1*0.5*dt,t+0.5*dt,*args)\n",
    "    a3 = y_dot(y+a2*0.5*dt,t+0.5*dt,*args)\n",
    "    a4 = y_dot(y+a3*dt,t+dt,*args)\n",
    "    return y + dt/6.*(a1+a4) + dt/3.*(a2+a3)\n",
    "\n",
    "def runge_kutta(y0,y_dot,ts,args):\n",
    "    ys = np.empty((*ts.shape,*y0.shape),dtype=float)\n",
    "    ys[0] = y0\n",
    "    dt = ts[1]-ts[0]\n",
    "    for i in range(len(ts)-1):\n",
    "        ys[i+1] = runge_kutta_step(ys[i],y_dot,ts[i],dt,args)\n",
    "    return ys\n",
    "\n",
    "def dot(n,time,vb,rb):\n",
    "    v = vb/(1+rb*n)\n",
    "    n_dot = 1-n+(0.5*n*v)**2\n",
    "    return n_dot"
   ]
  },
  {
   "cell_type": "code",
   "execution_count": 7,
   "metadata": {},
   "outputs": [
    {
     "data": {
      "text/plain": [
       "[<matplotlib.lines.Line2D at 0x7f4a96877460>]"
      ]
     },
     "execution_count": 7,
     "metadata": {},
     "output_type": "execute_result"
    },
    {
     "data": {
      "image/png": "[encoded data removed]",
      "text/plain": [
       "<Figure size 432x144 with 1 Axes>"
      ]
     },
     "metadata": {
      "needs_background": "light"
     },
     "output_type": "display_data"
    },
    {
     "data": {
      "image/png": "[encoded data removed]",
      "text/plain": [
       "<Figure size 432x144 with 1 Axes>"
      ]
     },
     "metadata": {
      "needs_background": "light"
     },
     "output_type": "display_data"
    }
   ],
   "source": [
    "sol1 = odeint(func=dot,y0=1,t=time,args=(0.2,.1))\n",
    "sol2 = runge_kutta(y0=np.array([1]),y_dot=dot,ts=time,args=(0.2,.1))\n",
    "plt.figure()\n",
    "plt.plot(time,sol1)\n",
    "plt.plot(time,sol2.real)\n",
    "\n",
    "sol1 = odeint(func=dot,y0=1,t=time,args=(1,0))\n",
    "sol2 = runge_kutta(y0=np.array([1]),y_dot=dot,ts=time,args=(1,0))\n",
    "plt.figure()\n",
    "plt.plot(time,sol1)\n",
    "plt.plot(time,sol2.real)"
   ]
  },
  {
   "cell_type": "markdown",
   "metadata": {},
   "source": [
    "## The advantage of having our own solver"
   ]
  },
  {
   "cell_type": "code",
   "execution_count": 8,
   "metadata": {},
   "outputs": [],
   "source": [
    "def runge_kutta_step(y,y_dot,t,dt,args):\n",
    "    a1 = y_dot(y,t,*args)\n",
    "    a2 = y_dot(y+a1*0.5*dt,t+0.5*dt,*args)\n",
    "    a3 = y_dot(y+a2*0.5*dt,t+0.5*dt,*args)\n",
    "    a4 = y_dot(y+a3*dt,t+dt,*args)\n",
    "    return y + dt/6.*(a1+a4) + dt/3.*(a2+a3)\n",
    "\n",
    "def runge_kutta(y0,y_dot,ts,args):\n",
    "    ys = np.empty((*ts.shape,*y0.shape),dtype=float)\n",
    "    ys[0] = y0\n",
    "    dt = ts[1]-ts[0]\n",
    "    for i in range(len(ts)-1):\n",
    "        try:\n",
    "            ys[i+1] = runge_kutta_step(ys[i],y_dot,ts[i],dt,args)\n",
    "        except ValueError:\n",
    "            ys[i+1:] = np.nan\n",
    "            break\n",
    "    return ys"
   ]
  },
  {
   "cell_type": "code",
   "execution_count": 9,
   "metadata": {},
   "outputs": [],
   "source": [
    "def dot_(n,time,vb,rb):\n",
    "    if time>20: raise ValueError\n",
    "    v = vb/(1+rb*n)\n",
    "    n_dot = 1-n+(0.5*n*v)**2\n",
    "    return n_dot"
   ]
  },
  {
   "cell_type": "code",
   "execution_count": 10,
   "metadata": {},
   "outputs": [
    {
     "data": {
      "text/plain": [
       "[<matplotlib.lines.Line2D at 0x7f4a96853670>]"
      ]
     },
     "execution_count": 10,
     "metadata": {},
     "output_type": "execute_result"
    },
    {
     "data": {
      "image/png": "[encoded data removed]",
      "text/plain": [
       "<Figure size 432x144 with 1 Axes>"
      ]
     },
     "metadata": {
      "needs_background": "light"
     },
     "output_type": "display_data"
    },
    {
     "data": {
      "image/png": "[encoded data removed]",
      "text/plain": [
       "<Figure size 432x144 with 1 Axes>"
      ]
     },
     "metadata": {
      "needs_background": "light"
     },
     "output_type": "display_data"
    }
   ],
   "source": [
    "sol1 = odeint(func=dot,y0=1,t=time,args=(0.2,.1))\n",
    "sol2 = runge_kutta(y0=np.array([1]),y_dot=dot_,ts=time,args=(0.2,.1))\n",
    "plt.figure()\n",
    "plt.plot(time,sol1)\n",
    "plt.plot(time,sol2.real)\n",
    "\n",
    "sol1 = odeint(func=dot,y0=1,t=time,args=(1,0))\n",
    "sol2 = runge_kutta(y0=np.array([1]),y_dot=dot_,ts=time,args=(1,0))\n",
    "plt.figure()\n",
    "plt.plot(time,sol1)\n",
    "plt.plot(time,sol2.real)"
   ]
  },
  {
   "cell_type": "code",
   "execution_count": 11,
   "metadata": {},
   "outputs": [],
   "source": [
    "def dot_(n,time,vb,rb):\n",
    "    if n>10e4: raise ValueError\n",
    "    v = vb/(1+rb*n)\n",
    "    n_dot = 1-n+(0.5*n*v)**2\n",
    "    return n_dot"
   ]
  },
  {
   "cell_type": "code",
   "execution_count": 12,
   "metadata": {},
   "outputs": [
    {
     "data": {
      "text/plain": [
       "[<matplotlib.lines.Line2D at 0x7f4a967f4a60>]"
      ]
     },
     "execution_count": 12,
     "metadata": {},
     "output_type": "execute_result"
    },
    {
     "data": {
      "image/png": "[encoded data removed]",
      "text/plain": [
       "<Figure size 432x144 with 1 Axes>"
      ]
     },
     "metadata": {
      "needs_background": "light"
     },
     "output_type": "display_data"
    }
   ],
   "source": [
    "sol2 = runge_kutta(y0=np.array([1]),y_dot=dot_,ts=time,args=(1,0))\n",
    "plt.figure()\n",
    "plt.plot(time,sol2.real)"
   ]
  },
  {
   "cell_type": "code",
   "execution_count": 13,
   "metadata": {},
   "outputs": [
    {
     "data": {
      "text/plain": [
       "[<matplotlib.lines.Line2D at 0x7f4a967be580>]"
      ]
     },
     "execution_count": 13,
     "metadata": {},
     "output_type": "execute_result"
    },
    {
     "data": {
      "image/png": "[encoded data removed]",
      "text/plain": [
       "<Figure size 432x144 with 1 Axes>"
      ]
     },
     "metadata": {
      "needs_background": "light"
     },
     "output_type": "display_data"
    }
   ],
   "source": [
    "sol2 = runge_kutta(y0=np.array([1]),y_dot=dot_,ts=time,args=(1.03,0.01))\n",
    "plt.figure()\n",
    "plt.plot(time,sol2.real)"
   ]
  }
 ],
 "metadata": {
  "kernelspec": {
   "display_name": "Python 3",
   "language": "python",
   "name": "python3"
  },
  "language_info": {
   "codemirror_mode": {
    "name": "ipython",
    "version": 3
   },
   "file_extension": ".py",
   "mimetype": "text/x-python",
   "name": "python",
   "nbconvert_exporter": "python",
   "pygments_lexer": "ipython3",
   "version": "3.9.1"
  }
 },
 "nbformat": 4,
 "nbformat_minor": 2
}
