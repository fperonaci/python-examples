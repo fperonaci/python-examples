{
 "cells": [
  {
   "cell_type": "code",
   "execution_count": 1,
   "id": "solid-jenny",
   "metadata": {},
   "outputs": [],
   "source": [
    "import sys\n",
    "sys.path.insert(0,'Nextcloud/neuromott/draft')\n",
    "from scripts.tools import *"
   ]
  },
  {
   "cell_type": "code",
   "execution_count": 6,
   "id": "macro-somewhere",
   "metadata": {},
   "outputs": [],
   "source": [
    "%matplotlib qt5"
   ]
  },
  {
   "cell_type": "code",
   "execution_count": 42,
   "id": "spiritual-oliver",
   "metadata": {},
   "outputs": [],
   "source": [
    "plt.figure(1,clear=True)\n",
    "\n",
    "xs = np.logspace(0,5,2000)\n",
    "s = lambda rl : rf'$r_\\ell\\!=\\!{rl}$'\n",
    "f = lambda vl,rl: v_star(vl,rl,rs=0.01)\n",
    "l1 = plt.plot(f(xs,0.00),xs,'r',dashes=[2,1,2,1],label=s(0))[0]\n",
    "l2 = plt.plot(f(xs,0.05),xs,'g',dashes=[4,1,1,1],label=s(0.05))[0]\n",
    "l4 = plt.plot(f(xs,0.15),xs,'b',dashes=[1,1,1,1],label=s(0.15))[0]\n",
    "l3 = plt.plot(f(xs,0.10),xs,'k',dashes=[1,0,1,0],label=s(0.1))[0]\n",
    "set_ylim_scale(plt.gca(),1,1e4,scale='log')\n",
    "set_xlim_scale(plt.gca(),0,1)\n",
    "\n",
    "fill_opt1 = {'alpha':0.10,'lw':0.75,'color':'0.2'}\n",
    "fill_opt2 = {'alpha':0.25,'lw':0.00,'color':cm10a[0]}\n",
    "#plt.axhspan(n_th1,n_th2,**fill_opt1,label='NDR')\n",
    "plt.axhspan(n_th1,nmm(10),**fill_opt1,label='NDR')\n",
    "plt.axhspan(npp(10),n_th2,**fill_opt1,label='NDR')\n",
    "plt.axhspan(npp(10),nmm(10),**fill_opt2,label='Unst.')\n",
    "plt.axhline(npp(10),**{**fill_opt2,'lw':0.75,'ls':'--'})\n",
    "plt.axhline(nmm(10),**{**fill_opt2,'lw':0.75,'ls':'-.'})\n",
    "\n",
    "plt.axvline(0.625)\n",
    "plt.axhline(8.9)\n",
    "plt.axhline(2.5)\n",
    "\n",
    "plt.xlabel('$v_l$',fontsize='x-large')\n",
    "plt.ylabel('$n$',fontsize='x-large')\n",
    "\n",
    "#plt.legend()\n",
    "\n",
    "plt.grid()"
   ]
  },
  {
   "cell_type": "code",
   "execution_count": 80,
   "id": "partial-windows",
   "metadata": {},
   "outputs": [],
   "source": [
    "plt.figure(1,clear=True)\n",
    "\n",
    "rl,rs,vl = 0.1,0.01,0.625\n",
    "\n",
    "opt = {'ls':'--','color':'0.25','lw':0.75,'alpha':0.75}\n",
    "opt = {'ls':'--','color':'k','lw':2,'alpha':0.75}\n",
    "xs = np.concatenate([np.arange(0,1,0.1),np.logspace(0,5,100)])\n",
    "plt.plot(n_null(xs,rs=0.01),xs,**opt)\n",
    "plt.plot(v_null(xs,rl=rl,vl=vl,rs=0.01),xs,**opt)\n",
    "\n",
    "set_xlim_scale(plt.gca(),0,1,p=0)\n",
    "set_ylim_scale(plt.gca(),1,1e4,scale='log')\n",
    "\n",
    "plt.axhline(8.9)\n",
    "plt.axhline(2.5)\n",
    "\n",
    "plt.axvline(0.343)\n",
    "plt.axvline(0.501)\n",
    "\n",
    "plt.xlabel('$v$',fontsize='x-large')\n",
    "plt.ylabel('$n$',fontsize='x-large')\n",
    "\n",
    "arr1 = arr_opt(1,0,5)\n",
    "a_opt = dict(annotation_clip=True)\n",
    "opt = dict(arr=arr1,l_opt={'lw':2,'c':cm13a[0]},opt=a_opt)\n",
    "#flows(plt.gca(),[(m.v,m.n) for m in m1[0]],x0=0.9e+0,**opt,d=0.01)\n",
    "#flows(plt.gca(),[(m.v,m.n) for m in m1[1]],x0=5.0e-2,**opt,d=0.01)\n",
    "#flows(plt.gca(),[(m.v,m.n) for m in m1[2]],y0=1.0e+2,**opt,d=10.0)\n",
    "#flows(plt.gca(),[(m.v,m.n) for m in m1[3]],y0=0.8e+4,**opt,d=100.)\n",
    "flows(plt.gca(),[(m.v,m.n) for m in m1[4]],y0=0.8e+4,**opt,d=100.)"
   ]
  },
  {
   "cell_type": "code",
   "execution_count": 77,
   "id": "provincial-extraction",
   "metadata": {},
   "outputs": [],
   "source": [
    "vs = [0.0,0.2,0.4,0.6,0.8,1.0]\n",
    "ns = [0.1,1,10,100,1000,10000]\n",
    "ps = dict(t=np.arange(0,55,0.01),rl=0.1,c=100,rs=0.01)\n",
    "\n",
    "m1 = []\n",
    "m1.append([MemristorC(**ps,vl=0.625,n0=n,v0=1.10) for n in ns])\n",
    "m1.append([MemristorC(**ps,vl=0.625,n0=n,v0=0.00) for n in ns])\n",
    "m1.append([MemristorC(**ps,vl=0.625,n0=1e-2,v0=v) for v in vs])\n",
    "m1.append([MemristorC(**ps,vl=0.625,n0=2e+4,v0=v) for v in vs])"
   ]
  },
  {
   "cell_type": "code",
   "execution_count": 78,
   "id": "preliminary-membrane",
   "metadata": {},
   "outputs": [],
   "source": [
    "m1.append([])"
   ]
  },
  {
   "cell_type": "code",
   "execution_count": 79,
   "id": "sunrise-spiritual",
   "metadata": {},
   "outputs": [],
   "source": [
    "m1[-1] = []\n",
    "ps.update(t=np.arange(0,100,0.01))\n",
    "\n",
    "m1[-1].append(MemristorC(**ps,vl=0.625,v0=0.343,n0=8.9))\n",
    "m1[-1].append(MemristorC(**ps,vl=0.625,v0=0.501,n0=2.5))"
   ]
  }
 ],
 "metadata": {
  "kernelspec": {
   "display_name": "Python 3",
   "language": "python",
   "name": "python3"
  },
  "language_info": {
   "codemirror_mode": {
    "name": "ipython",
    "version": 3
   },
   "file_extension": ".py",
   "mimetype": "text/x-python",
   "name": "python",
   "nbconvert_exporter": "python",
   "pygments_lexer": "ipython3",
   "version": "3.9.1"
  }
 },
 "nbformat": 4,
 "nbformat_minor": 5
}
